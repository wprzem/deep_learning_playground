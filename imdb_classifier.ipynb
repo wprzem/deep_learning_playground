{
 "cells": [
  {
   "cell_type": "code",
   "execution_count": 1,
   "id": "85324daa",
   "metadata": {},
   "outputs": [],
   "source": [
    "from tensorflow.keras.datasets import imdb\n",
    "import numpy as np\n",
    "from tensorflow import keras\n",
    "from tensorflow.keras import layers"
   ]
  },
  {
   "cell_type": "code",
   "execution_count": 2,
   "id": "7c388f2d",
   "metadata": {},
   "outputs": [],
   "source": [
    "(train_data, train_labels), (test_data, test_labels) = imdb.load_data(num_words=10000)"
   ]
  },
  {
   "cell_type": "code",
   "execution_count": 3,
   "id": "cc249edb",
   "metadata": {},
   "outputs": [],
   "source": [
    "def vectorize_sequences(sequences, dimension=10000):\n",
    "    results = np.zeros((len(sequences), dimension))\n",
    "    for i, sequence in enumerate(sequences):\n",
    "        for j in sequence:\n",
    "            results[i, j] = 1\n",
    "    return results"
   ]
  },
  {
   "cell_type": "code",
   "execution_count": 4,
   "id": "842cedc3",
   "metadata": {},
   "outputs": [],
   "source": [
    "x_train = vectorize_sequences(train_data)\n",
    "x_test = vectorize_sequences(test_data)\n",
    "\n",
    "y_train = np.asarray(train_labels).astype(\"float32\")\n",
    "y_test = np.asarray(test_labels).astype(\"float32\")"
   ]
  },
  {
   "cell_type": "code",
   "execution_count": 10,
   "id": "7096f0c1",
   "metadata": {},
   "outputs": [],
   "source": [
    "model = keras.Sequential([\n",
    "    layers.Dense(16, activation=\"relu\"),\n",
    "    layers.Dense(16, activation=\"relu\"),\n",
    "    layers.Dense(1, activation=\"sigmoid\")\n",
    "])\n",
    "\n",
    "model.compile(optimizer=\"rmsprop\",\n",
    "             loss=\"binary_crossentropy\",\n",
    "             metrics=[\"accuracy\"])"
   ]
  },
  {
   "cell_type": "code",
   "execution_count": 11,
   "id": "751d5c5c",
   "metadata": {},
   "outputs": [
    {
     "name": "stdout",
     "output_type": "stream",
     "text": [
      "Epoch 1/20\n",
      "49/49 [==============================] - 1s 22ms/step - loss: 0.4371 - accuracy: 0.8259 - val_loss: 0.3385 - val_accuracy: 0.8732\n",
      "Epoch 2/20\n",
      "49/49 [==============================] - 0s 10ms/step - loss: 0.2547 - accuracy: 0.9104 - val_loss: 0.2907 - val_accuracy: 0.8832\n",
      "Epoch 3/20\n",
      "49/49 [==============================] - 0s 10ms/step - loss: 0.1974 - accuracy: 0.9278 - val_loss: 0.2859 - val_accuracy: 0.8866\n",
      "Epoch 4/20\n",
      "49/49 [==============================] - 1s 11ms/step - loss: 0.1660 - accuracy: 0.9395 - val_loss: 0.2955 - val_accuracy: 0.8833\n",
      "Epoch 5/20\n",
      "49/49 [==============================] - 1s 11ms/step - loss: 0.1438 - accuracy: 0.9478 - val_loss: 0.3214 - val_accuracy: 0.8764\n",
      "Epoch 6/20\n",
      "49/49 [==============================] - 1s 10ms/step - loss: 0.1256 - accuracy: 0.9572 - val_loss: 0.3495 - val_accuracy: 0.8708\n",
      "Epoch 7/20\n",
      "49/49 [==============================] - 0s 10ms/step - loss: 0.1121 - accuracy: 0.9609 - val_loss: 0.3591 - val_accuracy: 0.8720\n",
      "Epoch 8/20\n",
      "49/49 [==============================] - 0s 10ms/step - loss: 0.0989 - accuracy: 0.9664 - val_loss: 0.3993 - val_accuracy: 0.8644\n",
      "Epoch 9/20\n",
      "49/49 [==============================] - 1s 11ms/step - loss: 0.0871 - accuracy: 0.9718 - val_loss: 0.4213 - val_accuracy: 0.8623\n",
      "Epoch 10/20\n",
      "49/49 [==============================] - 1s 11ms/step - loss: 0.0787 - accuracy: 0.9733 - val_loss: 0.4345 - val_accuracy: 0.8650\n",
      "Epoch 11/20\n",
      "49/49 [==============================] - 1s 10ms/step - loss: 0.0676 - accuracy: 0.9794 - val_loss: 0.4677 - val_accuracy: 0.8626\n",
      "Epoch 12/20\n",
      "49/49 [==============================] - 1s 11ms/step - loss: 0.0579 - accuracy: 0.9830 - val_loss: 0.5116 - val_accuracy: 0.8565\n",
      "Epoch 13/20\n",
      "49/49 [==============================] - 1s 11ms/step - loss: 0.0503 - accuracy: 0.9855 - val_loss: 0.5390 - val_accuracy: 0.8568\n",
      "Epoch 14/20\n",
      "49/49 [==============================] - 1s 10ms/step - loss: 0.0444 - accuracy: 0.9871 - val_loss: 0.6274 - val_accuracy: 0.8456\n",
      "Epoch 15/20\n",
      "49/49 [==============================] - 1s 11ms/step - loss: 0.0362 - accuracy: 0.9902 - val_loss: 0.6172 - val_accuracy: 0.8558\n",
      "Epoch 16/20\n",
      "49/49 [==============================] - 1s 10ms/step - loss: 0.0310 - accuracy: 0.9914 - val_loss: 0.6447 - val_accuracy: 0.8530\n",
      "Epoch 17/20\n",
      "49/49 [==============================] - 1s 10ms/step - loss: 0.0261 - accuracy: 0.9936 - val_loss: 0.6901 - val_accuracy: 0.8520\n",
      "Epoch 18/20\n",
      "49/49 [==============================] - 1s 10ms/step - loss: 0.0200 - accuracy: 0.9951 - val_loss: 0.7253 - val_accuracy: 0.8507\n",
      "Epoch 19/20\n",
      "49/49 [==============================] - 0s 10ms/step - loss: 0.0200 - accuracy: 0.9946 - val_loss: 0.7655 - val_accuracy: 0.8503\n",
      "Epoch 20/20\n",
      "49/49 [==============================] - 1s 11ms/step - loss: 0.0133 - accuracy: 0.9971 - val_loss: 0.8013 - val_accuracy: 0.8478\n"
     ]
    }
   ],
   "source": [
    "history = model.fit(x_train,\n",
    "                   y_train,\n",
    "                   epochs=20,\n",
    "                   batch_size=512,\n",
    "                   validation_data=(x_test, y_test))"
   ]
  },
  {
   "cell_type": "code",
   "execution_count": 7,
   "id": "07f2813e",
   "metadata": {},
   "outputs": [
    {
     "name": "stdout",
     "output_type": "stream",
     "text": [
      "116/782 [===>..........................] - ETA: 0s - loss: 0.7636 - accuracy: 0.8440"
     ]
    },
    {
     "name": "stderr",
     "output_type": "stream",
     "text": [
      "2021-12-29 20:21:27.396345: W tensorflow/core/framework/cpu_allocator_impl.cc:80] Allocation of 1000000000 exceeds 10% of free system memory.\n"
     ]
    },
    {
     "name": "stdout",
     "output_type": "stream",
     "text": [
      "782/782 [==============================] - 1s 1ms/step - loss: 0.7704 - accuracy: 0.8428\n"
     ]
    },
    {
     "data": {
      "text/plain": [
       "[0.7703827619552612, 0.8427600264549255]"
      ]
     },
     "execution_count": 7,
     "metadata": {},
     "output_type": "execute_result"
    }
   ],
   "source": [
    "model.evaluate(x_test, y_test)"
   ]
  }
 ],
 "metadata": {
  "kernelspec": {
   "display_name": "Python 3 (ipykernel)",
   "language": "python",
   "name": "python3"
  },
  "language_info": {
   "codemirror_mode": {
    "name": "ipython",
    "version": 3
   },
   "file_extension": ".py",
   "mimetype": "text/x-python",
   "name": "python",
   "nbconvert_exporter": "python",
   "pygments_lexer": "ipython3",
   "version": "3.9.7"
  }
 },
 "nbformat": 4,
 "nbformat_minor": 5
}
