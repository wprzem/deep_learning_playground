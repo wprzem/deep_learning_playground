{
 "cells": [
  {
   "cell_type": "code",
   "execution_count": null,
   "id": "6932d6cb",
   "metadata": {},
   "outputs": [],
   "source": [
    "import numpy as np\n",
    "import matplotlib.pyplot as plt\n",
    "\n",
    "np.set_printoptions(precision=2)"
   ]
  },
  {
   "cell_type": "code",
   "execution_count": null,
   "id": "7037c74e",
   "metadata": {},
   "outputs": [],
   "source": [
    "def softplus(input):\n",
    "    return np.log(1 + np.exp(input))\n",
    "\n",
    "def softplus_der(input):\n",
    "    return np.exp(input) / (1 + np.exp(input))"
   ]
  },
  {
   "cell_type": "code",
   "execution_count": null,
   "id": "eb01d0bc",
   "metadata": {},
   "outputs": [],
   "source": [
    "class FFNet: \n",
    "    def __init__(self):\n",
    "        # internal naming vs youtube naming:\n",
    "        # self.w1 = [[w1], [w2]]\n",
    "        # self.b1 = [[b1], [b2]]\n",
    "        # self.w2 = [[w3], [w4]]\n",
    "        # self.b2 = [[b3]]\n",
    "        \n",
    "        self.x = np.array([0., 0.5, 1.])\n",
    "        \n",
    "        # target:       self.w1 = np.array([[3.34], [-3.53]])\n",
    "        # youtube init: self.w1 = np.array([[2.74], [-1.13]])\n",
    "        self.w1 = np.random.normal(size=(2, 1))\n",
    "        print(f'{self.w1=}')\n",
    "\n",
    "        # target:     self.b1 = np.array([[-1.43], [0.57]])\n",
    "        self.b1 = np.zeros(shape=(2, 1))\n",
    "\n",
    "        # target:       self.w2 = np.array([[-1.22], [-2.3]])\n",
    "        # youtube init: self.w2 = np.array([[0.36], [0.63]])\n",
    "        self.w2 = np.random.normal(size=(2, 1))\n",
    "        print(f'{self.w2=}')\n",
    "        \n",
    "        self.y = np.array([0., 1., 0.])\n",
    "        self.b2 = 0.\n",
    "        self.step_size = 0.01\n",
    "\n",
    "    def __repr__(self):\n",
    "        return f'{self.w1 = }\\n{self.b1 = }\\n{self.w2 = }\\n{self.b2 = }'\n",
    "    \n",
    "    def calc(self, x):\n",
    "        self.a1 = x * self.w1 + self.b1\n",
    "        self.z1 = softplus(self.a1)\n",
    "        self.a2 = self.z1 * self.w2\n",
    "        self.z2 = np.sum(self.a2, axis=0) + self.b2\n",
    "        return self.z2\n",
    "\n",
    "    def backpropagate(self, it):\n",
    "        print(f'Iter: {it}')\n",
    "        y_dash = self.calc(self.x)\n",
    "        res = self.y - y_dash\n",
    "        res_sq = res ** 2\n",
    "        C = np.sum(res_sq)\n",
    "        print(f'{C = }\\n')\n",
    "        \n",
    "        dC_dz2 = -2 * res\n",
    "        dz2_da2 = 1\n",
    "        dz2_db2 = 1\n",
    "        da2_dw2 = self.z1\n",
    "        da2_dz1 = self.w2\n",
    "        dz1_da1 = softplus_der(self.a1)\n",
    "        da1_dw1 = self.x\n",
    "        da1_db1 = 1\n",
    "        \n",
    "        dC_db2 = dC_dz2 * dz2_db2\n",
    "        dC_dw2 = dC_dz2 * dz2_da2 * da2_dw2\n",
    "        dC_db1 = dC_dz2 * dz2_da2 * da2_dz1 * dz1_da1 * da1_db1\n",
    "        dC_dw1 = dC_dz2 * dz2_da2 * da2_dz1 * dz1_da1 * da1_dw1\n",
    "\n",
    "        self.b2 = self.b2 - np.sum(dC_db2) * self.step_size\n",
    "        self.w2 = self.w2 - np.sum(dC_dw2, axis=1).reshape(2, 1) * self.step_size\n",
    "        self.b1 = self.b1 - np.sum(dC_db1, axis=1).reshape(2, 1) * self.step_size\n",
    "        self.w1 = self.w1 - np.sum(dC_dw1, axis=1).reshape(2, 1) * self.step_size\n",
    "\n",
    "    def train(self, num_iter):\n",
    "        for i in range(num_iter):\n",
    "            self.backpropagate(i)"
   ]
  },
  {
   "cell_type": "code",
   "execution_count": null,
   "id": "a67e4e1b",
   "metadata": {
    "scrolled": true
   },
   "outputs": [],
   "source": [
    "net = FFNet()\n",
    "net.train(10000)\n",
    "\n",
    "x = np.arange(0, 1, 0.01)\n",
    "plt.plot(x, net.calc(x))\n",
    "plt.plot()"
   ]
  }
 ],
 "metadata": {
  "kernelspec": {
   "display_name": "Python 3 (ipykernel)",
   "language": "python",
   "name": "python3"
  },
  "language_info": {
   "codemirror_mode": {
    "name": "ipython",
    "version": 3
   },
   "file_extension": ".py",
   "mimetype": "text/x-python",
   "name": "python",
   "nbconvert_exporter": "python",
   "pygments_lexer": "ipython3",
   "version": "3.9.5"
  }
 },
 "nbformat": 4,
 "nbformat_minor": 5
}
