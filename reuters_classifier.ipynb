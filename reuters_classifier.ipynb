{
 "cells": [
  {
   "cell_type": "code",
   "execution_count": 23,
   "id": "aa29ae04",
   "metadata": {},
   "outputs": [],
   "source": [
    "from tensorflow.keras.datasets import reuters\n",
    "from tensorflow.keras import Sequential\n",
    "from tensorflow.keras.layers import Dense\n",
    "import tensorflow as tf\n",
    "import numpy as np"
   ]
  },
  {
   "cell_type": "code",
   "execution_count": 4,
   "id": "6a3acb11",
   "metadata": {},
   "outputs": [],
   "source": [
    "(train_data, train_labels), (test_data, test_labels) = reuters.load_data(num_words=10000)"
   ]
  },
  {
   "cell_type": "code",
   "execution_count": 12,
   "id": "cb0cc26d",
   "metadata": {},
   "outputs": [],
   "source": [
    "def vectorize_sequences(sequences, dimension=10000):\n",
    "    results = np.zeros((len(sequences), dimension))\n",
    "    for i, sequence in enumerate(sequences):\n",
    "        for j in sequence:\n",
    "            results[i, j] = 1\n",
    "    return results\n",
    "\n",
    "def to_one_hot(labels, dimension=46):\n",
    "    results = np.zeros(shape=(len(labels), dimension))\n",
    "    for i, label in enumerate(labels):\n",
    "        results[i, label] = 1\n",
    "    return results"
   ]
  },
  {
   "cell_type": "code",
   "execution_count": 16,
   "id": "d2a93650",
   "metadata": {},
   "outputs": [],
   "source": [
    "x_train = vectorize_sequences(train_data)\n",
    "x_test = vectorize_sequences(test_data)\n",
    "\n",
    "y_train = to_one_hot(train_labels)\n",
    "y_test = to_one_hot(test_labels)"
   ]
  },
  {
   "cell_type": "code",
   "execution_count": 32,
   "id": "1e38276e",
   "metadata": {},
   "outputs": [],
   "source": [
    "model = Sequential([\n",
    "    Dense(64, activation=\"relu\"),\n",
    "    Dense(64, activation=\"relu\"),\n",
    "    Dense(46, activation=\"softmax\")\n",
    "])\n",
    "\n",
    "model.compile(optimizer=\"rmsprop\",\n",
    "            loss=\"categorical_crossentropy\",\n",
    "            metrics=[\"accuracy\"])"
   ]
  },
  {
   "cell_type": "code",
   "execution_count": 33,
   "id": "7ea87ba7",
   "metadata": {},
   "outputs": [
    {
     "name": "stderr",
     "output_type": "stream",
     "text": [
      "2021-12-29 21:22:09.507668: W tensorflow/core/framework/cpu_allocator_impl.cc:80] Allocation of 359280000 exceeds 10% of free system memory.\n"
     ]
    },
    {
     "name": "stdout",
     "output_type": "stream",
     "text": [
      "Epoch 1/20\n",
      "18/18 [==============================] - 1s 19ms/step - loss: 2.6057 - accuracy: 0.5262 - val_loss: 1.7528 - val_accuracy: 0.6541\n",
      "Epoch 2/20\n",
      "18/18 [==============================] - 0s 13ms/step - loss: 1.4261 - accuracy: 0.7042 - val_loss: 1.3614 - val_accuracy: 0.6986\n",
      "Epoch 3/20\n",
      "18/18 [==============================] - 0s 13ms/step - loss: 1.0531 - accuracy: 0.7733 - val_loss: 1.1675 - val_accuracy: 0.7493\n",
      "Epoch 4/20\n",
      "18/18 [==============================] - 0s 13ms/step - loss: 0.8178 - accuracy: 0.8293 - val_loss: 1.0557 - val_accuracy: 0.7671\n",
      "Epoch 5/20\n",
      "18/18 [==============================] - 0s 13ms/step - loss: 0.6436 - accuracy: 0.8662 - val_loss: 0.9879 - val_accuracy: 0.7792\n",
      "Epoch 6/20\n",
      "18/18 [==============================] - 0s 13ms/step - loss: 0.5062 - accuracy: 0.8932 - val_loss: 0.9471 - val_accuracy: 0.7912\n",
      "Epoch 7/20\n",
      "18/18 [==============================] - 0s 13ms/step - loss: 0.4083 - accuracy: 0.9116 - val_loss: 0.9328 - val_accuracy: 0.7863\n",
      "Epoch 8/20\n",
      "18/18 [==============================] - 0s 13ms/step - loss: 0.3350 - accuracy: 0.9269 - val_loss: 0.9298 - val_accuracy: 0.7907\n",
      "Epoch 9/20\n",
      "18/18 [==============================] - 0s 13ms/step - loss: 0.2784 - accuracy: 0.9371 - val_loss: 0.9288 - val_accuracy: 0.7947\n",
      "Epoch 10/20\n",
      "18/18 [==============================] - 0s 13ms/step - loss: 0.2349 - accuracy: 0.9424 - val_loss: 0.9549 - val_accuracy: 0.7916\n",
      "Epoch 11/20\n",
      "18/18 [==============================] - 0s 13ms/step - loss: 0.2068 - accuracy: 0.9450 - val_loss: 0.9766 - val_accuracy: 0.7898\n",
      "Epoch 12/20\n",
      "18/18 [==============================] - 0s 13ms/step - loss: 0.1811 - accuracy: 0.9496 - val_loss: 0.9921 - val_accuracy: 0.7974\n",
      "Epoch 13/20\n",
      "18/18 [==============================] - 0s 13ms/step - loss: 0.1675 - accuracy: 0.9525 - val_loss: 1.0319 - val_accuracy: 0.7903\n",
      "Epoch 14/20\n",
      "18/18 [==============================] - 0s 13ms/step - loss: 0.1550 - accuracy: 0.9525 - val_loss: 1.0600 - val_accuracy: 0.7903\n",
      "Epoch 15/20\n",
      "18/18 [==============================] - 0s 13ms/step - loss: 0.1447 - accuracy: 0.9539 - val_loss: 1.0578 - val_accuracy: 0.7947\n",
      "Epoch 16/20\n",
      "18/18 [==============================] - 0s 13ms/step - loss: 0.1345 - accuracy: 0.9542 - val_loss: 1.1160 - val_accuracy: 0.7898\n",
      "Epoch 17/20\n",
      "18/18 [==============================] - 0s 13ms/step - loss: 0.1268 - accuracy: 0.9541 - val_loss: 1.1240 - val_accuracy: 0.7836\n",
      "Epoch 18/20\n",
      "18/18 [==============================] - 0s 12ms/step - loss: 0.1262 - accuracy: 0.9556 - val_loss: 1.1413 - val_accuracy: 0.7867\n",
      "Epoch 19/20\n",
      "18/18 [==============================] - 0s 12ms/step - loss: 0.1212 - accuracy: 0.9548 - val_loss: 1.2187 - val_accuracy: 0.7836\n",
      "Epoch 20/20\n",
      "18/18 [==============================] - 0s 11ms/step - loss: 0.1153 - accuracy: 0.9559 - val_loss: 1.1490 - val_accuracy: 0.7903\n"
     ]
    }
   ],
   "source": [
    "history = model.fit(x_train,\n",
    "                   y_train,\n",
    "                   epochs=20,\n",
    "                   batch_size=512,\n",
    "                   validation_data=(x_test, y_test))"
   ]
  },
  {
   "cell_type": "code",
   "execution_count": 35,
   "id": "e5d235e6",
   "metadata": {},
   "outputs": [
    {
     "name": "stdout",
     "output_type": "stream",
     "text": [
      "Epoch 1/20\n",
      "18/18 [==============================] - 1s 20ms/step - loss: 2.5805 - accuracy: 0.5436 - val_loss: 1.7077 - val_accuracy: 0.6585\n",
      "Epoch 2/20\n",
      "18/18 [==============================] - 0s 13ms/step - loss: 1.3497 - accuracy: 0.7150 - val_loss: 1.3116 - val_accuracy: 0.7150\n",
      "Epoch 3/20\n",
      "18/18 [==============================] - 0s 13ms/step - loss: 0.9923 - accuracy: 0.7880 - val_loss: 1.1518 - val_accuracy: 0.7524\n",
      "Epoch 4/20\n",
      "18/18 [==============================] - 0s 12ms/step - loss: 0.7749 - accuracy: 0.8401 - val_loss: 1.0559 - val_accuracy: 0.7663\n",
      "Epoch 5/20\n",
      "18/18 [==============================] - 0s 13ms/step - loss: 0.6076 - accuracy: 0.8744 - val_loss: 1.0002 - val_accuracy: 0.7818\n",
      "Epoch 6/20\n",
      "18/18 [==============================] - 0s 13ms/step - loss: 0.4807 - accuracy: 0.9025 - val_loss: 0.9671 - val_accuracy: 0.7863\n",
      "Epoch 7/20\n",
      "18/18 [==============================] - 0s 13ms/step - loss: 0.3866 - accuracy: 0.9186 - val_loss: 0.9405 - val_accuracy: 0.7898\n",
      "Epoch 8/20\n",
      "18/18 [==============================] - 0s 13ms/step - loss: 0.3180 - accuracy: 0.9344 - val_loss: 0.9553 - val_accuracy: 0.7903\n",
      "Epoch 9/20\n",
      "18/18 [==============================] - 0s 12ms/step - loss: 0.2637 - accuracy: 0.9405 - val_loss: 0.9679 - val_accuracy: 0.7956\n",
      "Epoch 10/20\n",
      "18/18 [==============================] - 0s 12ms/step - loss: 0.2258 - accuracy: 0.9458 - val_loss: 0.9858 - val_accuracy: 0.7988\n",
      "Epoch 11/20\n",
      "18/18 [==============================] - 0s 13ms/step - loss: 0.2008 - accuracy: 0.9483 - val_loss: 0.9853 - val_accuracy: 0.8001\n",
      "Epoch 12/20\n",
      "18/18 [==============================] - 0s 13ms/step - loss: 0.1791 - accuracy: 0.9503 - val_loss: 1.0244 - val_accuracy: 0.7979\n",
      "Epoch 13/20\n",
      "18/18 [==============================] - 0s 13ms/step - loss: 0.1635 - accuracy: 0.9518 - val_loss: 1.0819 - val_accuracy: 0.7947\n",
      "Epoch 14/20\n",
      "18/18 [==============================] - 0s 13ms/step - loss: 0.1482 - accuracy: 0.9540 - val_loss: 1.0819 - val_accuracy: 0.7930\n",
      "Epoch 15/20\n",
      "18/18 [==============================] - 0s 12ms/step - loss: 0.1443 - accuracy: 0.9538 - val_loss: 1.0818 - val_accuracy: 0.7992\n",
      "Epoch 16/20\n",
      "18/18 [==============================] - 0s 13ms/step - loss: 0.1352 - accuracy: 0.9535 - val_loss: 1.1169 - val_accuracy: 0.7921\n",
      "Epoch 17/20\n",
      "18/18 [==============================] - 0s 13ms/step - loss: 0.1286 - accuracy: 0.9549 - val_loss: 1.2043 - val_accuracy: 0.7832\n",
      "Epoch 18/20\n",
      "18/18 [==============================] - 0s 13ms/step - loss: 0.1234 - accuracy: 0.9546 - val_loss: 1.2073 - val_accuracy: 0.7845\n",
      "Epoch 19/20\n",
      "18/18 [==============================] - 0s 13ms/step - loss: 0.1221 - accuracy: 0.9548 - val_loss: 1.1533 - val_accuracy: 0.7934\n",
      "Epoch 20/20\n",
      "18/18 [==============================] - 0s 11ms/step - loss: 0.1181 - accuracy: 0.9555 - val_loss: 1.2178 - val_accuracy: 0.7912\n"
     ]
    }
   ],
   "source": [
    "#alternative solution\n",
    "y_train_ints = np.array(train_labels)\n",
    "y_test_ints = np.array(test_labels)\n",
    "\n",
    "model_ints = Sequential([\n",
    "    Dense(64, activation=\"relu\"),\n",
    "    Dense(64, activation=\"relu\"),\n",
    "    Dense(46, activation=\"softmax\")\n",
    "])\n",
    "\n",
    "model_ints.compile(optimizer=\"rmsprop\",\n",
    "            loss=\"sparse_categorical_crossentropy\",\n",
    "            metrics=[\"accuracy\"])\n",
    "\n",
    "history = model_ints.fit(x_train,\n",
    "                   y_train_ints,\n",
    "                   epochs=20,\n",
    "                   batch_size=512,\n",
    "                   validation_data=(x_test, y_test_ints))"
   ]
  }
 ],
 "metadata": {
  "kernelspec": {
   "display_name": "Python 3 (ipykernel)",
   "language": "python",
   "name": "python3"
  },
  "language_info": {
   "codemirror_mode": {
    "name": "ipython",
    "version": 3
   },
   "file_extension": ".py",
   "mimetype": "text/x-python",
   "name": "python",
   "nbconvert_exporter": "python",
   "pygments_lexer": "ipython3",
   "version": "3.9.7"
  }
 },
 "nbformat": 4,
 "nbformat_minor": 5
}
